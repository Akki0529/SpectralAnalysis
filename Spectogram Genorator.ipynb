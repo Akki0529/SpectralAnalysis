{
 "cells": [
  {
   "cell_type": "code",
   "execution_count": 1,
   "id": "e285abb3",
   "metadata": {},
   "outputs": [],
   "source": [
    "import matplotlib.pyplot as plt\n",
    "import numpy as np\n",
    "from datetime import datetime, timedelta,time\n",
    "import os\n",
    "from scipy.signal import butter, lfilter, welch, periodogram\n",
    "from scipy.fft import fft, fftfreq, ifft, fftshift, rfft, irfft, ifftshift\n",
    "import math as M\n",
    "import matplotlib.dates as mdates\n",
    "import soundfile as sf\n",
    "from scipy import signal"
   ]
  },
  {
   "cell_type": "code",
   "execution_count": 2,
   "id": "94c55f9d",
   "metadata": {},
   "outputs": [],
   "source": [
    "def butter_bandpass(lowcut, highcut, Fs, order):\n",
    "    nyq = 0.5 * fs\n",
    "    low = lowcut / nyq\n",
    "    high = highcut / nyq\n",
    "    b, a = butter(order, [low, high], btype='band')\n",
    "    return b, a\n",
    "\n",
    "\n",
    "def butter_bandpass_filter(data, lowcut, highcut, Fs, order):\n",
    "    b, a = butter_bandpass(lowcut, highcut, fs, order=order)\n",
    "    y = lfilter(b, a, data)\n",
    "    return y \n",
    "\n",
    "def setup_graph(title='', x_label='', y_label='', fig_size=None):\n",
    "    fig = plt.figure()\n",
    "    if fig_size != None:\n",
    "        fig.set_size_inches(fig_size[0], fig_size[1])\n",
    "        ax = fig.add_subplot(111)\n",
    "        ax.set_title(title)\n",
    "        ax.set_xlabel(x_label)\n",
    "        ax.set_ylabel(y_label)"
   ]
  },
  {
   "cell_type": "code",
   "execution_count": 3,
   "id": "2b1bdefa",
   "metadata": {},
   "outputs": [
    {
     "name": "stdout",
     "output_type": "stream",
     "text": [
      "1\n"
     ]
    }
   ],
   "source": [
    "path = './data/'\n",
    "#%cd \\\"./data/RC0067 Nov 2022/\\\"\n",
    "all_files = os.listdir(path)\n",
    "all_files = [i for i in all_files if i.endswith('.wav') and i.startswith('230124')]\n",
    "print(len(all_files))\n",
    "delta = timedelta(minutes=5)\n",
    "#start = datetime.fromisoformat('2021-11-02T10:56:00')\n",
    "start = datetime.fromisoformat('2023-01-24T00:03:00') # file created time\n",
    "#start = datetime.fromisoformat('2023-01-24T00:03:00')\n",
    "t = np.array([start + i*delta for i in range(len(all_files))])"
   ]
  },
  {
   "cell_type": "code",
   "execution_count": 4,
   "id": "13c5dc3f",
   "metadata": {},
   "outputs": [
    {
     "name": "stdout",
     "output_type": "stream",
     "text": [
      "0\n"
     ]
    }
   ],
   "source": [
    "lowcut = 500\n",
    "highcut = 20000\n",
    "for i in range(len(all_files[:])):\n",
    "    print(i)\n",
    "    file_name = np.sort(all_files)[i]\n",
    "    signal_raw, fs = sf.read(path + file_name)\n",
    "    signal_raw = np.reshape(signal_raw, (-1, 2)[0])\n",
    "    signal_raw[np.isnan(fs)] = 0\n",
    "    # FILTER\n",
    "    signal = butter_bandpass_filter(signal_raw, lowcut, highcut, fs, order=3)\n",
    "    t_vector = np.linspace(0,signal_raw.shape[0]/fs,signal_raw.shape[0])\n",
    "\n",
    "    vmin = 90 \n",
    "    vmax = 150 \n",
    "    setup_graph(title = t[i].time(), x_label='time (s)', y_label='frequency (Hz)', fig_size=(6,4))\n",
    "    pxx,  freq, tt, cax = plt.specgram(signal*np.power(10,(199.4/20)), Fs=fs, vmin = vmin, vmax = vmax)\n",
    "\n",
    "    plt.colorbar(cax,label='(dB)').ax.yaxis.set_label_position('right')\n",
    "    plt.axis(ymin = lowcut,ymax = highcut)\n",
    "    plt.savefig('./data/'+file_name+'.png')\n",
    "    plt.close()"
   ]
  },
  {
   "cell_type": "code",
   "execution_count": null,
   "id": "b7136204",
   "metadata": {},
   "outputs": [],
   "source": []
  },
  {
   "cell_type": "code",
   "execution_count": null,
   "id": "67785a5b",
   "metadata": {},
   "outputs": [],
   "source": []
  }
 ],
 "metadata": {
  "kernelspec": {
   "display_name": "Python 3 (ipykernel)",
   "language": "python",
   "name": "python3"
  },
  "language_info": {
   "codemirror_mode": {
    "name": "ipython",
    "version": 3
   },
   "file_extension": ".py",
   "mimetype": "text/x-python",
   "name": "python",
   "nbconvert_exporter": "python",
   "pygments_lexer": "ipython3",
   "version": "3.10.11"
  }
 },
 "nbformat": 4,
 "nbformat_minor": 5
}
